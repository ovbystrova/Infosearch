{
 "cells": [
  {
   "cell_type": "code",
   "execution_count": 12,
   "metadata": {},
   "outputs": [],
   "source": [
    "import os\n",
    "import collections\n",
    "\n",
    "from nltk.tokenize import RegexpTokenizer\n",
    "from nltk.corpus import stopwords\n",
    "import pymorphy2 as pm\n",
    "import string\n",
    "import re\n",
    "\n",
    "import copy"
   ]
  },
  {
   "cell_type": "code",
   "execution_count": 1,
   "metadata": {},
   "outputs": [
    {
     "name": "stdout",
     "output_type": "stream",
     "text": [
      "defaultdict(None, {})\n"
     ]
    }
   ],
   "source": [
    "#Создаем словарь, где ключ - название эпизода, значение - текст субтитров.\n",
    "ep_text_d = collections.defaultdict()\n",
    "print(ep_text_d)"
   ]
  },
  {
   "cell_type": "code",
   "execution_count": 4,
   "metadata": {},
   "outputs": [
    {
     "name": "stdout",
     "output_type": "stream",
     "text": [
      "165\n"
     ]
    }
   ],
   "source": [
    "#Выкачаем все файлы\n",
    "files_dir = os.getcwd()+'\\\\friends'\n",
    "for dirt in os.listdir(files_dir):\n",
    "    for file in os.listdir(files_dir+'\\\\'+dirt):\n",
    "        f_name = files_dir + '\\\\' + dirt + '\\\\' + file\n",
    "        with open(f_name, 'r', encoding='utf-8') as f:\n",
    "            ep_text_d[file] = f.read().replace('\\n', ' ')\n",
    "print(len(ep_text_d.keys()))"
   ]
  },
  {
   "cell_type": "code",
   "execution_count": null,
   "metadata": {},
   "outputs": [],
   "source": [
    "#!pip install pymorphy2"
   ]
  },
  {
   "cell_type": "code",
   "execution_count": 6,
   "metadata": {},
   "outputs": [],
   "source": [
    "#Сделаем предпроцессинг данных. Приведем тексты к нормальным формам, удалим стоплова и знаки препинания. \n",
    "stopWords = set(stopwords.words('russian'))\n",
    "morph = pm.MorphAnalyzer()\n",
    "\n",
    "def preprocess(text):\n",
    "    \"\"\"Функция на вход получает текст и возвращает список нормализованных слов, без знаков пунктуации, без стопслов\"\"\"\n",
    "    text = text.lower()\n",
    "    tokenizer = RegexpTokenizer(r'\\w+')\n",
    "    tokens = tokenizer.tokenize(text)\n",
    "    filtered_words = list(filter(lambda token: token not in stopwords.words('russian'), tokens))\n",
    "    norm_words = [morph.parse(token)[0].normal_form for token in filtered_words]\n",
    "    return norm_words\n",
    "\n",
    "def indexing(d):\n",
    "    \"\"\"Функция на вход получает словарь эпизод: текст, на выходе словарь эпизод: список лемм в тесте\"\"\"\n",
    "    index_dict = {} \n",
    "    for key in d.keys():\n",
    "        index_dict[key] = preprocess(d[key])\n",
    "    return index_dict\n",
    "\n",
    "index_d = indexing(ep_text_d)"
   ]
  },
  {
   "cell_type": "code",
   "execution_count": 7,
   "metadata": {},
   "outputs": [],
   "source": [
    "def metric(d, key, item):\n",
    "    \"\"\"\n",
    "    Функция считает метрику сходства для нормализованного поискового запроса.\n",
    "    А именно - Term-frequency.\n",
    "    \"\"\"\n",
    "    if key not in d.keys():\n",
    "        return 0\n",
    "    \n",
    "    tf = d[key].count(item) / len(d[key])\n",
    "    \n",
    "    return tf"
   ]
  },
  {
   "cell_type": "code",
   "execution_count": 8,
   "metadata": {},
   "outputs": [],
   "source": [
    "def reverse_indx(d):\n",
    "    \"\"\"\n",
    "    Функция на вход получает индексированный словарь, на выход - обратный индекс\n",
    "    Где для каждого токена есть словарь вида tf: эпизод\n",
    "    \"\"\"\n",
    "\n",
    "    reverse_index_dict = {}\n",
    "    for key, value in d.items():\n",
    "        for item in value:\n",
    "            tf = metric(d, key, item)\n",
    "            if item not in reverse_index_dict.keys():\n",
    "                #reverse_index_dict[item] = {tf : key}\n",
    "                reverse_index_dict[item] = {key:tf}\n",
    "            else:\n",
    "                #reverse_index_dict[item][tf] = key\n",
    "                reverse_index_dict[item][key]  = tf\n",
    "    return reverse_index_dict\n",
    "\n",
    "reverse_d = reverse_indx(index_d)"
   ]
  },
  {
   "cell_type": "code",
   "execution_count": 9,
   "metadata": {},
   "outputs": [
    {
     "data": {
      "text/plain": [
       "{'Friends - 1x10 - The One With The Monkey.ru.txt': 0.0036231884057971015,\n",
       " 'Friends - 1x15 - The One With The Stoned Guy.ru.txt': 0.001034126163391934,\n",
       " 'Friends - 1x16 - The One With Two Parts (1).ru.txt': 0.003883495145631068,\n",
       " 'Friends - 1x17 - The One With Two Parts (2).ru.txt': 0.002053388090349076,\n",
       " 'Friends - 1x18 - The One With All The Poker.ru.txt': 0.0019704433497536944,\n",
       " 'Friends - 1x19 - The One Where The Monkey Gets Away.ru.txt': 0.022510822510822513,\n",
       " 'Friends - 2x12 - The One After The Super Bowl (1).ru.txt': 0.006433823529411764,\n",
       " 'Friends - 2x13 - The One After The Super Bowl (2).ru.txt': 0.006185567010309278,\n",
       " 'Friends - 2x14 - The One With The Prom Video.ru.txt': 0.0019267822736030828,\n",
       " 'Friends - 7x17 - The One With The Cheap Wedding Dress.ru.txt': 0.0009182736455463728}"
      ]
     },
     "execution_count": 9,
     "metadata": {},
     "output_type": "execute_result"
    }
   ],
   "source": [
    "reverse_d['марсель']"
   ]
  },
  {
   "cell_type": "code",
   "execution_count": 10,
   "metadata": {},
   "outputs": [],
   "source": [
    "def search(s, reverse_d):\n",
    "    \"\"\"Функция выполняет поиск по reverse_d, выводит отсортированный список результатов\"\"\"\n",
    "    \n",
    "    norm_s = preprocess(s)\n",
    "    result = {}\n",
    "    result_sorted=[]\n",
    "    \n",
    "    for token in norm_s:\n",
    "        if token not in reverse_d.keys():\n",
    "            pass\n",
    "        else:\n",
    "            if len(result)  == 0 : \n",
    "                result = copy.deepcopy(reverse_d[token])\n",
    "                #result = reverse_d[token] #episode:tf\n",
    "            else:\n",
    "                check = reverse_d[token] #episode:tf\n",
    "                for key, value in check.items():\n",
    "                    if key in result.keys():\n",
    "                        result[key] += check[key]\n",
    "                    else:\n",
    "                        result[key] = check[key]\n",
    "    \n",
    "    result_inverse = {y:x for x,y in result.items()} \n",
    "    for tf in sorted(result_inverse, reverse=True):\n",
    "        result_sorted.append(result_inverse[tf] + 'TF--{}'.format(tf))\n",
    "    return result_sorted"
   ]
  },
  {
   "cell_type": "code",
   "execution_count": 13,
   "metadata": {},
   "outputs": [
    {
     "data": {
      "text/plain": [
       "['Friends - 1x19 - The One Where The Monkey Gets Away.ru.txtTF--0.022510822510822513',\n",
       " 'Friends - 2x12 - The One After The Super Bowl (1).ru.txtTF--0.006433823529411764',\n",
       " 'Friends - 2x13 - The One After The Super Bowl (2).ru.txtTF--0.006185567010309278',\n",
       " 'Friends - 1x16 - The One With Two Parts (1).ru.txtTF--0.003883495145631068',\n",
       " 'Friends - 1x10 - The One With The Monkey.ru.txtTF--0.0036231884057971015',\n",
       " 'Friends - 1x17 - The One With Two Parts (2).ru.txtTF--0.002053388090349076',\n",
       " 'Friends - 1x18 - The One With All The Poker.ru.txtTF--0.0019704433497536944',\n",
       " 'Friends - 2x14 - The One With The Prom Video.ru.txtTF--0.0019267822736030828',\n",
       " 'Friends - 1x15 - The One With The Stoned Guy.ru.txtTF--0.001034126163391934',\n",
       " 'Friends - 7x17 - The One With The Cheap Wedding Dress.ru.txtTF--0.0009182736455463728']"
      ]
     },
     "execution_count": 13,
     "metadata": {},
     "output_type": "execute_result"
    }
   ],
   "source": [
    "#Проверим на 'марсель' - это обезьянка, которая была в первом сезоне в основном\n",
    "search('марсель', reverse_d)"
   ]
  },
  {
   "cell_type": "code",
   "execution_count": 14,
   "metadata": {},
   "outputs": [
    {
     "data": {
      "text/plain": [
       "['Friends - 1x19 - The One Where The Monkey Gets Away.ru.txtTF--0.024242424242424246',\n",
       " 'Friends - 2x13 - The One After The Super Bowl (2).ru.txtTF--0.007216494845360824',\n",
       " 'Friends - 2x12 - The One After The Super Bowl (1).ru.txtTF--0.006433823529411764',\n",
       " 'Friends - 1x16 - The One With Two Parts (1).ru.txtTF--0.003883495145631068',\n",
       " 'Friends - 2x14 - The One With The Prom Video.ru.txtTF--0.0038535645472061657',\n",
       " \"Friends - 5x17 - The One With Rachel's Inadvertent Kiss.ru.txtTF--0.0038424591738712775\",\n",
       " 'Friends - 1x10 - The One With The Monkey.ru.txtTF--0.0036231884057971015',\n",
       " 'Friends - 1x18 - The One With All The Poker.ru.txtTF--0.0029556650246305416',\n",
       " 'Friends - 6x02 - The One Where Ross Hugs Rachel.ru.txtTF--0.0026200873362445414',\n",
       " 'Friends - 1x15 - The One With The Stoned Guy.ru.txtTF--0.002068252326783868',\n",
       " 'Friends - 1x17 - The One With Two Parts (2).ru.txtTF--0.002053388090349076',\n",
       " \"Friends - 7x07 - The One With Ross's Library Book.ru.txtTF--0.0019782393669634025\",\n",
       " 'Friends - 5x14 - The One Where Everybody Finds Out.ru.txtTF--0.0019455252918287938',\n",
       " 'Friends - 1x06 - The One With The Butt.ru.txtTF--0.0018832391713747645',\n",
       " 'Friends - 6x11 - The One With The Apothecary Table.ru.txtTF--0.0018099547511312218',\n",
       " \"Friends - 5x22 - The One With Joey's Big Break.ru.txtTF--0.0017211703958691911\",\n",
       " 'Friends - 2x02 - The One With The Breast Milk.ru.txtTF--0.0012033694344163659',\n",
       " 'Friends - 6x01 - The One After Vegas.ru.txtTF--0.0010438413361169101',\n",
       " 'Friends - 5x23-24 - The One In Vegas (1).ru.txtTF--0.001002004008016032',\n",
       " \"Friends - 4x03 - The One With The 'Cuffs.ru.txtTF--0.000984251968503937\",\n",
       " 'Friends - 6x04 - The One Where Joey Loses His Insurance.ru.txtTF--0.0009823182711198428',\n",
       " 'Friends - 5x01 - The One After Ross Says Rachel.ru.txtTF--0.0009784735812133072',\n",
       " \"Friends - 7x02 - The One With Rachel's Book.ru.txtTF--0.0009587727708533077\",\n",
       " 'Friends - 3x19 - The One With The Tiny T-Shirt.ru.txtTF--0.0009407337723424271',\n",
       " 'Friends - 1x13 - The One With The Boobies.ru.txtTF--0.0009380863039399625',\n",
       " 'Friends - 3x08 - The One With The Giant Poking Device.ru.txtTF--0.0009328358208955224',\n",
       " \"Friends - 5x12 - The One With Chandler's Work Laugh.ru.txtTF--0.0009182736455463728\",\n",
       " 'Friends - 6x20 - The One With Mac And C.H.E.E.S.E..ru.txtTF--0.0009025270758122744',\n",
       " \"Friends - 6x14 - The One Where Chandler Can't Cry (2).ru.txtTF--0.0008920606601248885\",\n",
       " \"Friends - 7x15 - The One With Joey's New Brain.ru.txtTF--0.0008857395925597874\",\n",
       " 'Friends - 4x08 - The One With Chandler In A Box.ru.txtTF--0.0008733624454148472',\n",
       " 'Friends - 5x21 - The One With The Ball.ru.txtTF--0.000835421888053467',\n",
       " 'Friends - 3x17 - The One Without The Ski Trip.ru.txtTF--0.0008110300081103001',\n",
       " \"Friends - 6x21 - The One Where Ross Meets Elizabeth's Dad.ru.txtTF--0.0007942811755361397\",\n",
       " 'Friends - 2x20 - The One Where Old Yeller Dies.NurlanB.ru.txtTF--0.0007898894154818325',\n",
       " \"Friends - 7x20 - The One With Rachel's Big Kiss.ru.txtTF--0.0007763975155279503\",\n",
       " 'Friends - 1x01 - The One Where Monica Gets A Roommate.ru.txtTF--0.0006653359946773121']"
      ]
     },
     "execution_count": 14,
     "metadata": {},
     "output_type": "execute_result"
    }
   ],
   "source": [
    "#В 1х19 марсель будет сниматься в кино, попробуем поискать \"марсель кино\" \n",
    "search('марсель кино', reverse_d)"
   ]
  },
  {
   "cell_type": "code",
   "execution_count": 15,
   "metadata": {},
   "outputs": [
    {
     "data": {
      "text/plain": [
       "('просто', 165)"
      ]
     },
     "execution_count": 15,
     "metadata": {},
     "output_type": "execute_result"
    }
   ],
   "source": [
    "#Посчитаем самое частотное слово:\n",
    "max_count_v = list(reverse_d.keys())[0]\n",
    "max_count = len(reverse_d[list(reverse_d.keys())[0]])\n",
    "for key, value in reverse_d.items():\n",
    "    if len(reverse_d[key]) > max_count:\n",
    "        max_count_v = key\n",
    "        max_count = len(reverse_d[key])\n",
    "max_count_v, max_count"
   ]
  },
  {
   "cell_type": "code",
   "execution_count": 16,
   "metadata": {},
   "outputs": [
    {
     "data": {
      "text/plain": [
       "('придурь', 1)"
      ]
     },
     "execution_count": 16,
     "metadata": {},
     "output_type": "execute_result"
    }
   ],
   "source": [
    "#Посчитаем самое редкое слово\n",
    "min_count_v = list(reverse_d.keys())[0]\n",
    "min_count = len(reverse_d[list(reverse_d.keys())[0]])\n",
    "for key, value in reverse_d.items():\n",
    "    if len(reverse_d[key]) < min_count:\n",
    "        min_count_v = key\n",
    "        min_count = len(reverse_d[key])\n",
    "min_count_v, min_count "
   ]
  },
  {
   "cell_type": "code",
   "execution_count": 17,
   "metadata": {},
   "outputs": [
    {
     "data": {
      "text/plain": [
       "['просто', 'ты', 'знать', 'хотеть', 'это', 'сказать', 'думать']"
      ]
     },
     "execution_count": 17,
     "metadata": {},
     "output_type": "execute_result"
    }
   ],
   "source": [
    "#Какой набор слов есть во всех документах коллекции\n",
    "list_of_all = []\n",
    "for key, value in reverse_d.items():\n",
    "    if len(reverse_d[key]) == len(ep_text_d.keys()):\n",
    "        list_of_all.append(key)\n",
    "list_of_all"
   ]
  },
  {
   "cell_type": "code",
   "execution_count": 18,
   "metadata": {},
   "outputs": [
    {
     "data": {
      "text/plain": [
       "{'моника': 145,\n",
       " 'чендлер': 32,\n",
       " 'джо': 58,\n",
       " 'рэйчел': 56,\n",
       " 'росс': 158,\n",
       " 'фиби': 141}"
      ]
     },
     "execution_count": 18,
     "metadata": {},
     "output_type": "execute_result"
    }
   ],
   "source": [
    "#Кто из главных героев статистически самый популярный\n",
    "names = {'моника':0, 'чендлер':0, 'джо':0, 'рэйчел':0, 'росс':0, 'фиби':0}\n",
    "for name in names.keys():\n",
    "    names[name] = len(reverse_d[name])\n",
    "names\n",
    "#оказалось, что это росс, но это далеко не факт, т.к. в сериале гороев называют часто не по полным именам, а \"рэйч\", \"фибс\", \"мон\""
   ]
  },
  {
   "cell_type": "code",
   "execution_count": 20,
   "metadata": {},
   "outputs": [],
   "source": [
    "#Посмотрим самый популярный сезон у Моники и Чендлера.\n",
    "#10 элемент\n",
    "\n",
    "popular = ['моника', 'чендлер']\n",
    "\n",
    "def most_popular_season(name):    \n",
    "    count_season = dict()\n",
    "    episodes = search(name, reverse_d)\n",
    "    for episode in episodes:\n",
    "        if episode[10] not in count_season.keys():\n",
    "            count_season[episode[10]] = 1\n",
    "        else:\n",
    "            count_season[episode[10]] += 1\n",
    "    key_popular = ''\n",
    "    max_popular = 0\n",
    "    for key, value in count_season.items():\n",
    "        if count_season[key] > max_popular:\n",
    "            key_popular = key\n",
    "    \n",
    "    return 'The most popular season for {} is {}'.format(name, key)\n",
    "\n",
    "for name in popular:\n",
    "    print(most_popular_season(name)\n",
    "    \n",
    "            \n",
    "    "
   ]
  },
  {
   "cell_type": "code",
   "execution_count": null,
   "metadata": {},
   "outputs": [],
   "source": []
  }
 ],
 "metadata": {
  "kernelspec": {
   "display_name": "Python 3",
   "language": "python",
   "name": "python3"
  },
  "language_info": {
   "codemirror_mode": {
    "name": "ipython",
    "version": 3
   },
   "file_extension": ".py",
   "mimetype": "text/x-python",
   "name": "python",
   "nbconvert_exporter": "python",
   "pygments_lexer": "ipython3",
   "version": "3.7.1"
  }
 },
 "nbformat": 4,
 "nbformat_minor": 2
}
